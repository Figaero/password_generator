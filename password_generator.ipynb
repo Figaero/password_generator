{
 "cells": [
  {
   "cell_type": "code",
   "execution_count": 1,
   "metadata": {},
   "outputs": [],
   "source": [
    "import random\n"
   ]
  },
  {
   "cell_type": "markdown",
   "metadata": {},
   "source": [
    "This is the collection of alphabets, numbers and symbols that will be used for generating the password"
   ]
  },
  {
   "cell_type": "markdown",
   "metadata": {},
   "source": [
    "Transform string of characters into list"
   ]
  },
  {
   "cell_type": "code",
   "execution_count": 79,
   "metadata": {
    "scrolled": false
   },
   "outputs": [],
   "source": [
    "character_string = 'ABCDEFGHIJKLMNOPQRSTUVWXYZabcdefghijklmnopqrstuvwxyz1234567890?!@$+_-'\n",
    "character = []\n",
    "for i in character_string:\n",
    "    character.append(i)"
   ]
  },
  {
   "cell_type": "markdown",
   "metadata": {},
   "source": [
    "Asking the number of users to generate password for and password difficulty."
   ]
  },
  {
   "cell_type": "code",
   "execution_count": 81,
   "metadata": {
    "scrolled": false
   },
   "outputs": [
    {
     "name": "stdout",
     "output_type": "stream",
     "text": [
      "How many users: \n",
      "4\n",
      "Password difficulty on a scale of 1 - 5 (1 being easy to 5 being most difficult): \n",
      "5\n"
     ]
    }
   ],
   "source": [
    "total_users = int(input('How many users: \\n'))\n",
    "strength = input('Password difficulty on a scale of 1 - 5 (1 being easy to 5 being most difficult): \\n')\n",
    "password_length = {'1': 6, '2': 9, '3': 12, '4': 18,'5': 24}\n",
    "p_strength = password_length.get(strength)"
   ]
  },
  {
   "cell_type": "markdown",
   "metadata": {},
   "source": [
    "To create a dictionary listing each user with their respective password"
   ]
  },
  {
   "cell_type": "code",
   "execution_count": 82,
   "metadata": {},
   "outputs": [],
   "source": [
    "user_list=[]\n",
    "user_ = 'User_'\n",
    "users = {}\n",
    "for t in range(total_users):\n",
    "    password = ''\n",
    "    user = user_ +str(t)\n",
    "    user_list.append(user)\n",
    "    for char in range(p_strength):\n",
    "        password += random.choice(character)\n",
    "    users[user] = password"
   ]
  },
  {
   "cell_type": "code",
   "execution_count": 83,
   "metadata": {},
   "outputs": [
    {
     "name": "stdout",
     "output_type": "stream",
     "text": [
      "{'User_0': 'IYYaCYqGKL_cv6Tr5rStQJ4V', 'User_1': 'EDZJ5v!hJ4z2!BSJSi$ZBFQa', 'User_2': 'MX_ia4bRME8Rm3rGC4p80KZ0', 'User_3': 'en48LRcl1RcM9EmkAR$zmwDK'}\n"
     ]
    }
   ],
   "source": [
    "print(users)"
   ]
  },
  {
   "cell_type": "code",
   "execution_count": null,
   "metadata": {},
   "outputs": [],
   "source": []
  }
 ],
 "metadata": {
  "kernelspec": {
   "display_name": "Python 3",
   "language": "python",
   "name": "python3"
  },
  "language_info": {
   "codemirror_mode": {
    "name": "ipython",
    "version": 3
   },
   "file_extension": ".py",
   "mimetype": "text/x-python",
   "name": "python",
   "nbconvert_exporter": "python",
   "pygments_lexer": "ipython3",
   "version": "3.8.3"
  }
 },
 "nbformat": 4,
 "nbformat_minor": 4
}
